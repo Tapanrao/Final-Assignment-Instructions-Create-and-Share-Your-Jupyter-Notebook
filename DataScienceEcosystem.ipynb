{
 "cells": [
  {
   "cell_type": "markdown",
   "id": "190f1778-64bf-44ba-b009-46c2c4f976a0",
   "metadata": {},
   "source": [
    "# Data Science Tools and Ecosystem"
   ]
  },
  {
   "cell_type": "markdown",
   "id": "e8ed8455-214a-43a6-b944-c9a291954f34",
   "metadata": {},
   "source": [
    "In this notebook, Data Science Tools and Ecosystem are summarized."
   ]
  },
  {
   "cell_type": "markdown",
   "id": "63624bc7-3d77-430d-8542-1abea31eeb8c",
   "metadata": {},
   "source": [
    "###### Objectives:\n",
    "- Languages like Python, R, SQL\n",
    "- Data visualization library like Ggplot, Ggplot2\n",
    "- Jupiter Notebook, Rstudio\n",
    "- Github"
   ]
  },
  {
   "cell_type": "markdown",
   "id": "47b99a2e-6bb6-411b-b5ee-86920a1e8251",
   "metadata": {},
   "source": [
    "Some of the popular languages that Data Scientists use are:\n",
    "1. Python\n",
    "2. R\n",
    "3. "
   ]
  },
  {
   "cell_type": "markdown",
   "id": "4cb8e395-df0d-44ec-a206-ec31e04385dc",
   "metadata": {},
   "source": [
    "Some of the commonly used libraries used by Data Scientists include:\n",
    "1. Numpy\n",
    "2. Panda\n",
    "3. PyTorch\n",
    "4. Matplotlib\n",
    "5. Tensorflow"
   ]
  },
  {
   "cell_type": "markdown",
   "id": "107782ff-2429-4f4c-9761-bfe49c1666b6",
   "metadata": {},
   "source": [
    "|Data Science Tools|\n",
    "|--------------------|\n",
    "|Jupyter Notebook|\n",
    "|Apache Spark|\n",
    "|MATLAB|\n"
   ]
  },
  {
   "cell_type": "markdown",
   "id": "bc4da99c-c4f0-4d61-912a-563c78ca7579",
   "metadata": {},
   "source": [
    "### Below are a few examples of evaluating arithmetic expressions in Python"
   ]
  },
  {
   "cell_type": "code",
   "execution_count": 1,
   "id": "b7e4afe6-e990-4cfb-9666-6f6f5c66d613",
   "metadata": {},
   "outputs": [
    {
     "data": {
      "text/plain": [
       "17"
      ]
     },
     "execution_count": 1,
     "metadata": {},
     "output_type": "execute_result"
    }
   ],
   "source": [
    "# \n",
    "# This a simple arithmetic expression to multiply then add integers\n",
    "(3*4)+5"
   ]
  },
  {
   "cell_type": "code",
   "execution_count": 2,
   "id": "c90f2f22-a97e-42c8-bc67-c79e1554f166",
   "metadata": {},
   "outputs": [
    {
     "data": {
      "text/plain": [
       "3.3333333333333335"
      ]
     },
     "execution_count": 2,
     "metadata": {},
     "output_type": "execute_result"
    }
   ],
   "source": [
    "#\n",
    "# This will convert 200 minutes to hours by diving by 60\n",
    "200/60"
   ]
  },
  {
   "cell_type": "markdown",
   "id": "023bb94b-bc96-4d14-a20f-aa9b09db799a",
   "metadata": {},
   "source": [
    "## Author\n",
    "Tapan Rao"
   ]
  },
  {
   "cell_type": "code",
   "execution_count": null,
   "id": "616fc8a2-c9f5-4bc5-b420-cd3bf75da5b2",
   "metadata": {},
   "outputs": [],
   "source": []
  }
 ],
 "metadata": {
  "kernelspec": {
   "display_name": "Python 3 (ipykernel)",
   "language": "python",
   "name": "python3"
  },
  "language_info": {
   "codemirror_mode": {
    "name": "ipython",
    "version": 3
   },
   "file_extension": ".py",
   "mimetype": "text/x-python",
   "name": "python",
   "nbconvert_exporter": "python",
   "pygments_lexer": "ipython3",
   "version": "3.12.8"
  }
 },
 "nbformat": 4,
 "nbformat_minor": 5
}
